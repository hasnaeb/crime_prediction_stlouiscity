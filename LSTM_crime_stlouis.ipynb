{
  "nbformat": 4,
  "nbformat_minor": 0,
  "metadata": {
    "kernelspec": {
      "display_name": "Python 3",
      "language": "python",
      "name": "python3"
    },
    "language_info": {
      "codemirror_mode": {
        "name": "ipython",
        "version": 3
      },
      "file_extension": ".py",
      "mimetype": "text/x-python",
      "name": "python",
      "nbconvert_exporter": "python",
      "pygments_lexer": "ipython3",
      "version": "3.7.3"
    },
    "colab": {
      "name": "LSTM-crime-stlouis.ipynb",
      "provenance": []
    }
  },
  "cells": [
    {
      "cell_type": "markdown",
      "metadata": {
        "id": "724W2go7KKpn",
        "colab_type": "text"
      },
      "source": [
        "# Crime prediction in St Louis City"
      ]
    },
    {
      "cell_type": "code",
      "metadata": {
        "id": "JbpU8T2PKKpq",
        "colab_type": "code",
        "colab": {}
      },
      "source": [
        "import pandas as pd\n",
        "import matplotlib.pyplot as plt\n",
        "import datetime\n",
        "import numpy as np\n",
        "from datetime import datetime\n",
        "from datetime import timedelta \n",
        "from dateutil.relativedelta import relativedelta\n",
        "from sklearn.preprocessing import StandardScaler # for normalization\n",
        "from sklearn.preprocessing import MinMaxScaler"
      ],
      "execution_count": 0,
      "outputs": []
    },
    {
      "cell_type": "markdown",
      "metadata": {
        "id": "Vxya_RAJKKpu",
        "colab_type": "text"
      },
      "source": [
        "# Preprocessing data"
      ]
    },
    {
      "cell_type": "code",
      "metadata": {
        "id": "AirBl32yKKpw",
        "colab_type": "code",
        "outputId": "b426a77f-f581-4657-adbd-11a0e3060c07",
        "colab": {
          "base_uri": "https://localhost:8080/",
          "height": 419
        }
      },
      "source": [
        "#importing dataset\n",
        "data=pd.read_csv('stl-crime-data_2008-2015.tsv',delimiter='\\t',encoding='utf-8')\n",
        "data = data[['DateOccured','Neighborhood','UCRCrime']]\n",
        "data['DateOccured'] = [datetime.strptime(data.iloc[i]['DateOccured'], '%m/%d/%Y %H:%M').date() for i in range(len(data.index))]\n",
        "data"
      ],
      "execution_count": 122,
      "outputs": [
        {
          "output_type": "execute_result",
          "data": {
            "text/html": [
              "<div>\n",
              "<style scoped>\n",
              "    .dataframe tbody tr th:only-of-type {\n",
              "        vertical-align: middle;\n",
              "    }\n",
              "\n",
              "    .dataframe tbody tr th {\n",
              "        vertical-align: top;\n",
              "    }\n",
              "\n",
              "    .dataframe thead th {\n",
              "        text-align: right;\n",
              "    }\n",
              "</style>\n",
              "<table border=\"1\" class=\"dataframe\">\n",
              "  <thead>\n",
              "    <tr style=\"text-align: right;\">\n",
              "      <th></th>\n",
              "      <th>DateOccured</th>\n",
              "      <th>Neighborhood</th>\n",
              "      <th>UCRCrime</th>\n",
              "    </tr>\n",
              "  </thead>\n",
              "  <tbody>\n",
              "    <tr>\n",
              "      <th>0</th>\n",
              "      <td>2000-01-01</td>\n",
              "      <td>53</td>\n",
              "      <td>Sex Offenses</td>\n",
              "    </tr>\n",
              "    <tr>\n",
              "      <th>1</th>\n",
              "      <td>2003-01-01</td>\n",
              "      <td>17</td>\n",
              "      <td>Larceny-theft</td>\n",
              "    </tr>\n",
              "    <tr>\n",
              "      <th>2</th>\n",
              "      <td>2004-01-01</td>\n",
              "      <td>68</td>\n",
              "      <td>Fraud</td>\n",
              "    </tr>\n",
              "    <tr>\n",
              "      <th>3</th>\n",
              "      <td>2006-01-01</td>\n",
              "      <td>16</td>\n",
              "      <td>Fraud</td>\n",
              "    </tr>\n",
              "    <tr>\n",
              "      <th>4</th>\n",
              "      <td>2007-01-01</td>\n",
              "      <td>57</td>\n",
              "      <td>Other assaults</td>\n",
              "    </tr>\n",
              "    <tr>\n",
              "      <th>...</th>\n",
              "      <td>...</td>\n",
              "      <td>...</td>\n",
              "      <td>...</td>\n",
              "    </tr>\n",
              "    <tr>\n",
              "      <th>477636</th>\n",
              "      <td>2013-12-01</td>\n",
              "      <td>5</td>\n",
              "      <td>Larceny-theft</td>\n",
              "    </tr>\n",
              "    <tr>\n",
              "      <th>477637</th>\n",
              "      <td>2013-12-20</td>\n",
              "      <td>65</td>\n",
              "      <td>Forcible Rape</td>\n",
              "    </tr>\n",
              "    <tr>\n",
              "      <th>477638</th>\n",
              "      <td>2014-12-22</td>\n",
              "      <td>14</td>\n",
              "      <td>Other assaults</td>\n",
              "    </tr>\n",
              "    <tr>\n",
              "      <th>477639</th>\n",
              "      <td>2014-12-26</td>\n",
              "      <td>60</td>\n",
              "      <td>Robbery</td>\n",
              "    </tr>\n",
              "    <tr>\n",
              "      <th>477640</th>\n",
              "      <td>2014-12-29</td>\n",
              "      <td>1</td>\n",
              "      <td>Other</td>\n",
              "    </tr>\n",
              "  </tbody>\n",
              "</table>\n",
              "<p>449000 rows × 3 columns</p>\n",
              "</div>"
            ],
            "text/plain": [
              "       DateOccured  Neighborhood        UCRCrime\n",
              "0       2000-01-01            53    Sex Offenses\n",
              "1       2003-01-01            17   Larceny-theft\n",
              "2       2004-01-01            68           Fraud\n",
              "3       2006-01-01            16           Fraud\n",
              "4       2007-01-01            57  Other assaults\n",
              "...            ...           ...             ...\n",
              "477636  2013-12-01             5   Larceny-theft\n",
              "477637  2013-12-20            65   Forcible Rape\n",
              "477638  2014-12-22            14  Other assaults\n",
              "477639  2014-12-26            60         Robbery\n",
              "477640  2014-12-29             1           Other\n",
              "\n",
              "[449000 rows x 3 columns]"
            ]
          },
          "metadata": {
            "tags": []
          },
          "execution_count": 122
        }
      ]
    },
    {
      "cell_type": "code",
      "metadata": {
        "id": "wlwzUDh2mTvB",
        "colab_type": "code",
        "colab": {}
      },
      "source": [
        "#keeping dates starting 2008\n",
        "start = datetime.strptime('Jan 1 2008 00:00','%b %d %Y %H:%M').date()\n",
        "filt = data['DateOccured'] >= start\n",
        "data = data.where(filt)\n",
        "data = data.dropna()\n"
      ],
      "execution_count": 0,
      "outputs": []
    },
    {
      "cell_type": "code",
      "metadata": {
        "id": "7wUcr6StrmkF",
        "colab_type": "code",
        "colab": {}
      },
      "source": [
        "mask1 = (data['UCRCrime'] == 'Forcible Rape') | (data['UCRCrime'] == 'Sex Offenses')\n",
        "data.loc[mask1,'UCRCrime'] = 'Sexual Abuse'\n",
        "mask2 = ( (data['UCRCrime']=='Larceny-theft') | (data['UCRCrime']=='Fraud') |\n",
        "         (data['UCRCrime']=='Forgery and Counterfeiting') | (data['UCRCrime']=='Burglary') |\n",
        "         (data['UCRCrime']=='Arson') | (data['UCRCrime']=='Robbery') | (data['UCRCrime']=='Embezzlement') |\n",
        "         (data['UCRCrime']== 'Stolen Property') | (data['UCRCrime']=='Motor vehicle theft') )\n",
        "data.loc[mask2,'UCRCrime'] = 'Property Crimes'\n",
        "mask3 = ( (data['UCRCrime']=='Aggravated Assault') | (data['UCRCrime']=='Other assaults') |\n",
        "         (data['UCRCrime']=='Criminal Homicide') | (data['UCRCrime']=='Offenses Against the Family and Children') )\n",
        "data.loc[mask3,'UCRCrime'] = 'Violence'\n",
        "mask4 = ( (data['UCRCrime']=='Vandalism') | (data['UCRCrime']=='Vagrancy') | (data['UCRCrime']=='Gambling') |\n",
        "         (data['UCRCrime']=='Prostitution and Commercialized Vice') | (data['UCRCrime']=='Weapons') )\n",
        "data.loc[mask4,'UCRCrime'] = 'Vice'\n",
        "mask5 = ( (data['UCRCrime']=='Disorderly Conduct') | (data['UCRCrime']=='DUI') |\n",
        "         (data['UCRCrime']=='Liquor Laws') | (data['UCRCrime']=='Drug Abuse Violations') )\n",
        "data.loc[mask5,'UCRCrime'] = 'Substance Abuse'"
      ],
      "execution_count": 0,
      "outputs": []
    },
    {
      "cell_type": "code",
      "metadata": {
        "id": "ryASqbbfoNkB",
        "colab_type": "code",
        "colab": {}
      },
      "source": [
        "#compute count for each day and each crime category and store in dictionary\n",
        "dico = data.groupby(['DateOccured','UCRCrime']).count().to_dict()['Neighborhood']\n",
        "#create new df that will contain count for each category and each day\n",
        "df = pd.DataFrame(columns=['Date']+list(data['UCRCrime'].unique()))"
      ],
      "execution_count": 0,
      "outputs": []
    },
    {
      "cell_type": "code",
      "metadata": {
        "scrolled": true,
        "id": "aaDam9yNKKp6",
        "colab_type": "code",
        "colab": {}
      },
      "source": [
        "n_days = 2922 #number of days from jan 1st 2008 to dec 31st 2015\n",
        "df['Date'] = [start+timedelta(days = i)  for i in range(n_days)]\n"
      ],
      "execution_count": 0,
      "outputs": []
    },
    {
      "cell_type": "code",
      "metadata": {
        "id": "AxXacvJMXMxG",
        "colab_type": "code",
        "colab": {}
      },
      "source": [
        "#filling df with values from dict\n",
        "for i in range(len(df.index)):\n",
        "  for crime in ['Sexual Abuse',\t'Property Crimes',\t'Violence',\t'Other',\t'Vice',\t'Substance Abuse']:\n",
        "    if (start+timedelta(days=i),crime) in dico.keys():\n",
        "      df.iloc[i][crime] = dico[(start+timedelta(days=i),crime)]\n",
        "    else:\n",
        "      df.iloc[i][crime] = 0"
      ],
      "execution_count": 0,
      "outputs": []
    },
    {
      "cell_type": "code",
      "metadata": {
        "id": "aMw2CZvwHwVN",
        "colab_type": "code",
        "outputId": "291c7926-c25c-4b89-876c-3364418c9258",
        "colab": {
          "base_uri": "https://localhost:8080/",
          "height": 255
        }
      },
      "source": [
        "#making sure no Nan values are left\n",
        "df.info()"
      ],
      "execution_count": 128,
      "outputs": [
        {
          "output_type": "stream",
          "text": [
            "<class 'pandas.core.frame.DataFrame'>\n",
            "RangeIndex: 2922 entries, 0 to 2921\n",
            "Data columns (total 7 columns):\n",
            " #   Column           Non-Null Count  Dtype \n",
            "---  ------           --------------  ----- \n",
            " 0   Date             2922 non-null   object\n",
            " 1   Sexual Abuse     2922 non-null   object\n",
            " 2   Property Crimes  2922 non-null   object\n",
            " 3   Violence         2922 non-null   object\n",
            " 4   Other            2922 non-null   object\n",
            " 5   Vice             2922 non-null   object\n",
            " 6   Substance Abuse  2922 non-null   object\n",
            "dtypes: object(7)\n",
            "memory usage: 159.9+ KB\n"
          ],
          "name": "stdout"
        }
      ]
    },
    {
      "cell_type": "code",
      "metadata": {
        "id": "3-Xn6YJGKKp-",
        "colab_type": "code",
        "colab": {}
      },
      "source": [
        "def series_to_supervised(data, n_in=1, n_out=1, dropnan=True):\n",
        "\t\"\"\"\n",
        "\tFrame a time series as a supervised learning dataset.\n",
        "\tArguments:\n",
        "\t\tdata: Sequence of observations as a list or NumPy array.\n",
        "\t\tn_in: Number of lag observations as input (X).\n",
        "\t\tn_out: Number of observations as output (y).\n",
        "\t\tdropnan: Boolean whether or not to drop rows with NaN values.\n",
        "\tReturns:\n",
        "\t\tPandas DataFrame of series framed for supervised learning.\n",
        "\t\"\"\"\n",
        "\tn_vars = 1 if type(data) is list else data.shape[1]\n",
        "\tdf = pd.DataFrame(data)\n",
        "\tcols, names = list(), list()\n",
        "\t# input sequence (t-n, ... t-1)\n",
        "\tfor i in range(n_in, 0, -1):\n",
        "\t\tcols.append(df.shift(i))\n",
        "\t\tnames += [('var%d(t-%d)' % (j+1, i)) for j in range(n_vars)]\n",
        "\t# forecast sequence (t, t+1, ... t+n)\n",
        "\tfor i in range(0, n_out):\n",
        "\t\tcols.append(df.shift(-i))\n",
        "\t\tif i == 0:\n",
        "\t\t\tnames += [('var%d(t)' % (j+1)) for j in range(n_vars)]\n",
        "\t\telse:\n",
        "\t\t\tnames += [('var%d(t+%d)' % (j+1, i)) for j in range(n_vars)]\n",
        "\t# put it all together\n",
        "\tagg = pd.concat(cols, axis=1)\n",
        "\tagg.columns = names\n",
        "\t# drop rows with NaN values\n",
        "\tif dropnan:\n",
        "\t\tagg.dropna(inplace=True)\n",
        "\treturn agg"
      ],
      "execution_count": 0,
      "outputs": []
    },
    {
      "cell_type": "code",
      "metadata": {
        "id": "oAJIPbaDLI17",
        "colab_type": "code",
        "outputId": "324d0dac-5c45-439c-f20f-9bbfb74c1bda",
        "colab": {
          "base_uri": "https://localhost:8080/",
          "height": 419
        }
      },
      "source": [
        "df"
      ],
      "execution_count": 132,
      "outputs": [
        {
          "output_type": "execute_result",
          "data": {
            "text/html": [
              "<div>\n",
              "<style scoped>\n",
              "    .dataframe tbody tr th:only-of-type {\n",
              "        vertical-align: middle;\n",
              "    }\n",
              "\n",
              "    .dataframe tbody tr th {\n",
              "        vertical-align: top;\n",
              "    }\n",
              "\n",
              "    .dataframe thead th {\n",
              "        text-align: right;\n",
              "    }\n",
              "</style>\n",
              "<table border=\"1\" class=\"dataframe\">\n",
              "  <thead>\n",
              "    <tr style=\"text-align: right;\">\n",
              "      <th></th>\n",
              "      <th>Date</th>\n",
              "      <th>Sexual Abuse</th>\n",
              "      <th>Property Crimes</th>\n",
              "      <th>Violence</th>\n",
              "      <th>Other</th>\n",
              "      <th>Vice</th>\n",
              "      <th>Substance Abuse</th>\n",
              "    </tr>\n",
              "  </thead>\n",
              "  <tbody>\n",
              "    <tr>\n",
              "      <th>0</th>\n",
              "      <td>2008-01-01</td>\n",
              "      <td>24</td>\n",
              "      <td>137</td>\n",
              "      <td>43</td>\n",
              "      <td>2</td>\n",
              "      <td>30</td>\n",
              "      <td>12</td>\n",
              "    </tr>\n",
              "    <tr>\n",
              "      <th>1</th>\n",
              "      <td>2008-01-02</td>\n",
              "      <td>1</td>\n",
              "      <td>111</td>\n",
              "      <td>12</td>\n",
              "      <td>6</td>\n",
              "      <td>28</td>\n",
              "      <td>15</td>\n",
              "    </tr>\n",
              "    <tr>\n",
              "      <th>2</th>\n",
              "      <td>2008-01-03</td>\n",
              "      <td>1</td>\n",
              "      <td>98</td>\n",
              "      <td>12</td>\n",
              "      <td>8</td>\n",
              "      <td>25</td>\n",
              "      <td>16</td>\n",
              "    </tr>\n",
              "    <tr>\n",
              "      <th>3</th>\n",
              "      <td>2008-01-04</td>\n",
              "      <td>1</td>\n",
              "      <td>133</td>\n",
              "      <td>24</td>\n",
              "      <td>11</td>\n",
              "      <td>16</td>\n",
              "      <td>14</td>\n",
              "    </tr>\n",
              "    <tr>\n",
              "      <th>4</th>\n",
              "      <td>2008-01-05</td>\n",
              "      <td>4</td>\n",
              "      <td>127</td>\n",
              "      <td>27</td>\n",
              "      <td>10</td>\n",
              "      <td>25</td>\n",
              "      <td>13</td>\n",
              "    </tr>\n",
              "    <tr>\n",
              "      <th>...</th>\n",
              "      <td>...</td>\n",
              "      <td>...</td>\n",
              "      <td>...</td>\n",
              "      <td>...</td>\n",
              "      <td>...</td>\n",
              "      <td>...</td>\n",
              "      <td>...</td>\n",
              "    </tr>\n",
              "    <tr>\n",
              "      <th>2917</th>\n",
              "      <td>2015-12-27</td>\n",
              "      <td>0</td>\n",
              "      <td>36</td>\n",
              "      <td>14</td>\n",
              "      <td>21</td>\n",
              "      <td>8</td>\n",
              "      <td>4</td>\n",
              "    </tr>\n",
              "    <tr>\n",
              "      <th>2918</th>\n",
              "      <td>2015-12-28</td>\n",
              "      <td>1</td>\n",
              "      <td>53</td>\n",
              "      <td>12</td>\n",
              "      <td>14</td>\n",
              "      <td>11</td>\n",
              "      <td>5</td>\n",
              "    </tr>\n",
              "    <tr>\n",
              "      <th>2919</th>\n",
              "      <td>2015-12-29</td>\n",
              "      <td>1</td>\n",
              "      <td>53</td>\n",
              "      <td>13</td>\n",
              "      <td>16</td>\n",
              "      <td>13</td>\n",
              "      <td>3</td>\n",
              "    </tr>\n",
              "    <tr>\n",
              "      <th>2920</th>\n",
              "      <td>2015-12-30</td>\n",
              "      <td>2</td>\n",
              "      <td>38</td>\n",
              "      <td>18</td>\n",
              "      <td>9</td>\n",
              "      <td>12</td>\n",
              "      <td>6</td>\n",
              "    </tr>\n",
              "    <tr>\n",
              "      <th>2921</th>\n",
              "      <td>2015-12-31</td>\n",
              "      <td>0</td>\n",
              "      <td>29</td>\n",
              "      <td>11</td>\n",
              "      <td>13</td>\n",
              "      <td>17</td>\n",
              "      <td>4</td>\n",
              "    </tr>\n",
              "  </tbody>\n",
              "</table>\n",
              "<p>2922 rows × 7 columns</p>\n",
              "</div>"
            ],
            "text/plain": [
              "            Date Sexual Abuse Property Crimes  ... Other Vice Substance Abuse\n",
              "0     2008-01-01           24             137  ...     2   30              12\n",
              "1     2008-01-02            1             111  ...     6   28              15\n",
              "2     2008-01-03            1              98  ...     8   25              16\n",
              "3     2008-01-04            1             133  ...    11   16              14\n",
              "4     2008-01-05            4             127  ...    10   25              13\n",
              "...          ...          ...             ...  ...   ...  ...             ...\n",
              "2917  2015-12-27            0              36  ...    21    8               4\n",
              "2918  2015-12-28            1              53  ...    14   11               5\n",
              "2919  2015-12-29            1              53  ...    16   13               3\n",
              "2920  2015-12-30            2              38  ...     9   12               6\n",
              "2921  2015-12-31            0              29  ...    13   17               4\n",
              "\n",
              "[2922 rows x 7 columns]"
            ]
          },
          "metadata": {
            "tags": []
          },
          "execution_count": 132
        }
      ]
    },
    {
      "cell_type": "markdown",
      "metadata": {
        "id": "9K27_3hrKKqG",
        "colab_type": "text"
      },
      "source": [
        "# LSTM implementation"
      ]
    },
    {
      "cell_type": "code",
      "metadata": {
        "id": "UbVwR1DZKKqH",
        "colab_type": "code",
        "outputId": "9b32ac19-fd7b-4be8-9654-62facb9cbe28",
        "colab": {
          "base_uri": "https://localhost:8080/",
          "height": 153
        }
      },
      "source": [
        "crimes = ['Sexual Abuse',\t'Property Crimes',\t'Violence',\t'Other',\t'Vice',\t'Substance Abuse']\n",
        "# load dataset\n",
        "# choose crime category\n",
        "dataset = df[crimes[1]]\n",
        "values = dataset.values\n",
        "# ensure all data is float\n",
        "values = values.astype('float32')\n",
        "values = values.reshape(-1, 1)\n",
        "# normalize feature\n",
        "scaler = MinMaxScaler(feature_range=(0, 1))\n",
        "scaled = scaler.fit_transform(values)\n",
        "# frame as supervised learning\n",
        "reframed = series_to_supervised(scaled, 7, 1)\n",
        "# drop columns we don't want to predict\n",
        "print(reframed.head())"
      ],
      "execution_count": 158,
      "outputs": [
        {
          "output_type": "stream",
          "text": [
            "    var1(t-7)  var1(t-6)  var1(t-5)  ...  var1(t-2)  var1(t-1)   var1(t)\n",
            "7    0.793333   0.620000   0.533333  ...   0.533333   0.626667  0.500000\n",
            "8    0.620000   0.533333   0.766667  ...   0.626667   0.500000  0.500000\n",
            "9    0.533333   0.766667   0.726667  ...   0.500000   0.500000  0.633333\n",
            "10   0.766667   0.726667   0.533333  ...   0.500000   0.633333  0.800000\n",
            "11   0.726667   0.533333   0.626667  ...   0.633333   0.800000  0.626667\n",
            "\n",
            "[5 rows x 8 columns]\n"
          ],
          "name": "stdout"
        }
      ]
    },
    {
      "cell_type": "code",
      "metadata": {
        "id": "L6E_4ZngKKqK",
        "colab_type": "code",
        "colab": {}
      },
      "source": [
        "from keras.models import Sequential\n",
        "from keras.layers.recurrent import LSTM\n",
        "from keras.layers.core import Dense, Activation, Dropout\n",
        "from sklearn.metrics import mean_squared_error\n",
        "from keras.layers import Dropout\n",
        "from keras import regularizers"
      ],
      "execution_count": 0,
      "outputs": []
    },
    {
      "cell_type": "code",
      "metadata": {
        "id": "jWlFwg7fLgxm",
        "colab_type": "code",
        "outputId": "8bedc884-3cc8-4f76-b2ce-094d910b8780",
        "colab": {
          "base_uri": "https://localhost:8080/",
          "height": 1000
        }
      },
      "source": [
        "# split into train and test sets\n",
        "values = reframed.values\n",
        "n_train_days = 2192 #up to 2013\n",
        "train = values[:n_train_days, :]\n",
        "test = values[n_train_days:, :]\n",
        "# split into input and outputs\n",
        "train_X, train_y = train[:, :-1], train[:, -1]\n",
        "test_X, test_y = test[:, :-1], test[:, -1]\n",
        "# reshape input to be 3D [samples, timesteps, features]\n",
        "train_X = train_X.reshape((train_X.shape[0], 1, train_X.shape[1]))\n",
        "test_X = test_X.reshape((test_X.shape[0], 1, test_X.shape[1]))\n",
        "print(train_X.shape, train_y.shape, test_X.shape, test_y.shape)\n",
        "# design network\n",
        "model = Sequential()\n",
        "model.add(LSTM(50, input_shape=(train_X.shape[1], train_X.shape[2]),dropout=0.2))\n",
        "model.add(Dense(1))\n",
        "model.compile(loss='mae', optimizer='adam')\n",
        "# fit network\n",
        "history = model.fit(train_X, train_y, epochs=50, batch_size=32, validation_data=(test_X, test_y), verbose=2, shuffle=True)\n",
        "# plot history\n",
        "plt.plot(history.history['loss'], label='train')\n",
        "plt.plot(history.history['val_loss'], label='test')\n",
        "plt.legend()\n",
        "plt.show()"
      ],
      "execution_count": 160,
      "outputs": [
        {
          "output_type": "stream",
          "text": [
            "(2192, 1, 7) (2192,) (723, 1, 7) (723,)\n",
            "Train on 2192 samples, validate on 723 samples\n",
            "Epoch 1/50\n",
            " - 1s - loss: 0.1594 - val_loss: 0.0653\n",
            "Epoch 2/50\n",
            " - 0s - loss: 0.0979 - val_loss: 0.0715\n",
            "Epoch 3/50\n",
            " - 0s - loss: 0.0957 - val_loss: 0.0670\n",
            "Epoch 4/50\n",
            " - 0s - loss: 0.0960 - val_loss: 0.0716\n",
            "Epoch 5/50\n",
            " - 0s - loss: 0.0943 - val_loss: 0.0724\n",
            "Epoch 6/50\n",
            " - 0s - loss: 0.0923 - val_loss: 0.0690\n",
            "Epoch 7/50\n",
            " - 0s - loss: 0.0941 - val_loss: 0.0735\n",
            "Epoch 8/50\n",
            " - 0s - loss: 0.0947 - val_loss: 0.0783\n",
            "Epoch 9/50\n",
            " - 0s - loss: 0.0942 - val_loss: 0.0735\n",
            "Epoch 10/50\n",
            " - 0s - loss: 0.0940 - val_loss: 0.0758\n",
            "Epoch 11/50\n",
            " - 0s - loss: 0.0942 - val_loss: 0.0718\n",
            "Epoch 12/50\n",
            " - 0s - loss: 0.0934 - val_loss: 0.0763\n",
            "Epoch 13/50\n",
            " - 0s - loss: 0.0924 - val_loss: 0.0699\n",
            "Epoch 14/50\n",
            " - 0s - loss: 0.0932 - val_loss: 0.0748\n",
            "Epoch 15/50\n",
            " - 0s - loss: 0.0924 - val_loss: 0.0774\n",
            "Epoch 16/50\n",
            " - 0s - loss: 0.0923 - val_loss: 0.0776\n",
            "Epoch 17/50\n",
            " - 0s - loss: 0.0932 - val_loss: 0.0665\n",
            "Epoch 18/50\n",
            " - 0s - loss: 0.0905 - val_loss: 0.0708\n",
            "Epoch 19/50\n",
            " - 0s - loss: 0.0908 - val_loss: 0.0684\n",
            "Epoch 20/50\n",
            " - 0s - loss: 0.0919 - val_loss: 0.0701\n",
            "Epoch 21/50\n",
            " - 0s - loss: 0.0889 - val_loss: 0.0675\n",
            "Epoch 22/50\n",
            " - 0s - loss: 0.0911 - val_loss: 0.0707\n",
            "Epoch 23/50\n",
            " - 0s - loss: 0.0901 - val_loss: 0.0744\n",
            "Epoch 24/50\n",
            " - 0s - loss: 0.0895 - val_loss: 0.0702\n",
            "Epoch 25/50\n",
            " - 0s - loss: 0.0879 - val_loss: 0.0761\n",
            "Epoch 26/50\n",
            " - 0s - loss: 0.0895 - val_loss: 0.0685\n",
            "Epoch 27/50\n",
            " - 0s - loss: 0.0884 - val_loss: 0.0700\n",
            "Epoch 28/50\n",
            " - 0s - loss: 0.0893 - val_loss: 0.0661\n",
            "Epoch 29/50\n",
            " - 0s - loss: 0.0902 - val_loss: 0.0661\n",
            "Epoch 30/50\n",
            " - 0s - loss: 0.0867 - val_loss: 0.0689\n",
            "Epoch 31/50\n",
            " - 0s - loss: 0.0870 - val_loss: 0.0669\n",
            "Epoch 32/50\n",
            " - 0s - loss: 0.0877 - val_loss: 0.0665\n",
            "Epoch 33/50\n",
            " - 0s - loss: 0.0865 - val_loss: 0.0658\n",
            "Epoch 34/50\n",
            " - 0s - loss: 0.0840 - val_loss: 0.0656\n",
            "Epoch 35/50\n",
            " - 0s - loss: 0.0857 - val_loss: 0.0668\n",
            "Epoch 36/50\n",
            " - 0s - loss: 0.0846 - val_loss: 0.0656\n",
            "Epoch 37/50\n",
            " - 0s - loss: 0.0842 - val_loss: 0.0662\n",
            "Epoch 38/50\n",
            " - 0s - loss: 0.0847 - val_loss: 0.0659\n",
            "Epoch 39/50\n",
            " - 0s - loss: 0.0851 - val_loss: 0.0670\n",
            "Epoch 40/50\n",
            " - 0s - loss: 0.0848 - val_loss: 0.0660\n",
            "Epoch 41/50\n",
            " - 0s - loss: 0.0838 - val_loss: 0.0659\n",
            "Epoch 42/50\n",
            " - 0s - loss: 0.0841 - val_loss: 0.0662\n",
            "Epoch 43/50\n",
            " - 0s - loss: 0.0834 - val_loss: 0.0657\n",
            "Epoch 44/50\n",
            " - 0s - loss: 0.0846 - val_loss: 0.0688\n",
            "Epoch 45/50\n",
            " - 0s - loss: 0.0840 - val_loss: 0.0662\n",
            "Epoch 46/50\n",
            " - 0s - loss: 0.0842 - val_loss: 0.0660\n",
            "Epoch 47/50\n",
            " - 0s - loss: 0.0847 - val_loss: 0.0661\n",
            "Epoch 48/50\n",
            " - 0s - loss: 0.0842 - val_loss: 0.0677\n",
            "Epoch 49/50\n",
            " - 0s - loss: 0.0833 - val_loss: 0.0701\n",
            "Epoch 50/50\n",
            " - 0s - loss: 0.0836 - val_loss: 0.0674\n"
          ],
          "name": "stdout"
        },
        {
          "output_type": "display_data",
          "data": {
            "image/png": "[encoded data removed]",
            "text/plain": [
              "<Figure size 432x288 with 1 Axes>"
            ]
          },
          "metadata": {
            "tags": [],
            "needs_background": "light"
          }
        }
      ]
    },
    {
      "cell_type": "code",
      "metadata": {
        "id": "3PppdFiKJ21K",
        "colab_type": "code",
        "colab": {}
      },
      "source": [
        ""
      ],
      "execution_count": 0,
      "outputs": []
    }
  ]
}
