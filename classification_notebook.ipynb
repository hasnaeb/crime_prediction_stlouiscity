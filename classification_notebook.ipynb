{
  "nbformat": 4,
  "nbformat_minor": 0,
  "metadata": {
    "kernelspec": {
      "display_name": "Python 3",
      "language": "python",
      "name": "python3"
    },
    "language_info": {
      "codemirror_mode": {
        "name": "ipython",
        "version": 3
      },
      "file_extension": ".py",
      "mimetype": "text/x-python",
      "name": "python",
      "nbconvert_exporter": "python",
      "pygments_lexer": "ipython3",
      "version": "3.7.3"
    },
    "colab": {
      "name": "classification_notebook.ipynb",
      "provenance": [],
      "include_colab_link": false
    },
    "accelerator": "GPU"
  },
  "cells": [
    {
      "cell_type": "markdown",
      "metadata": {
        "id": "view-in-github",
        "colab_type": "text"
      },
      "source": [
        "<a href=\"https://colab.research.google.com/github/hasnaeb/crime_prediction_stlouiscity/blob/master/classification_notebook.ipynb\" target=\"_parent\"><img src=\"https://colab.research.google.com/assets/colab-badge.svg\" alt=\"Open In Colab\"/></a>"
      ]
    },
    {
      "cell_type": "markdown",
      "metadata": {
        "id": "WYlRjHB4KH2H",
        "colab_type": "text"
      },
      "source": [
        "# Crime prediction in St Louis City"
      ]
    },
    {
      "cell_type": "code",
      "metadata": {
        "id": "IqjVwJKlKH2Q",
        "colab_type": "code",
        "colab": {}
      },
      "source": [
        "import numpy as np\n",
        "import matplotlib.pyplot as plt\n",
        "from sklearn.model_selection import train_test_split\n",
        "from sklearn.preprocessing import MinMaxScaler"
      ],
      "execution_count": 0,
      "outputs": []
    },
    {
      "cell_type": "markdown",
      "metadata": {
        "id": "lXxnkfJlk4_4",
        "colab_type": "text"
      },
      "source": [
        "Importing, scaling and splitting the dataset."
      ]
    },
    {
      "cell_type": "code",
      "metadata": {
        "id": "HOOpOc9aKH3-",
        "colab_type": "code",
        "colab": {}
      },
      "source": [
        "# Loading and shuffling datasets\n",
        "X = np.load('clean_attributes.npy')\n",
        "y = np.load('clean_labels.npy')\n",
        "# normalizing features\n",
        "scaler = MinMaxScaler(feature_range=(0, 1))\n",
        "X = scaler.fit_transform(X)\n",
        "# splitting data\n",
        "X_train, X_test, y_train, y_test = train_test_split(X, y, test_size=0.20, random_state=42)"
      ],
      "execution_count": 0,
      "outputs": []
    },
    {
      "cell_type": "markdown",
      "metadata": {
        "id": "gLZL1SYAKH38",
        "colab_type": "text"
      },
      "source": [
        "# **Classification through KNN model**"
      ]
    },
    {
      "cell_type": "code",
      "metadata": {
        "id": "AmF4VUs4YTqE",
        "colab_type": "code",
        "colab": {}
      },
      "source": [
        "from sklearn.neighbors import KNeighborsClassifier"
      ],
      "execution_count": 0,
      "outputs": []
    },
    {
      "cell_type": "markdown",
      "metadata": {
        "id": "8HX7y5G3nJQU",
        "colab_type": "text"
      },
      "source": [
        "Choosing K-value"
      ]
    },
    {
      "cell_type": "code",
      "metadata": {
        "id": "KYXNQDjRZMgo",
        "colab_type": "code",
        "colab": {}
      },
      "source": [
        "error_rate = []\n",
        "for i in range(1,40):\n",
        "    \n",
        "    clf = KNeighborsClassifier(n_neighbors=i)\n",
        "    clf.fit(X_train,y_train)\n",
        "    pred_i = clf.predict(X_test)\n",
        "    error_rate.append(np.mean(pred_i != y_test))"
      ],
      "execution_count": 0,
      "outputs": []
    },
    {
      "cell_type": "code",
      "metadata": {
        "id": "1lN1WkPrZea1",
        "colab_type": "code",
        "outputId": "7f0e08e3-0e07-4cfd-8f40-3f33308bf82c",
        "colab": {
          "base_uri": "https://localhost:8080/",
          "height": 405
        }
      },
      "source": [
        "plt.figure(figsize=(10,6))\n",
        "plt.plot(range(1,40),error_rate)\n",
        "plt.xlabel('K')\n",
        "plt.ylabel('Error Rate')"
      ],
      "execution_count": 14,
      "outputs": [
        {
          "output_type": "execute_result",
          "data": {
            "text/plain": [
              "Text(0, 0.5, 'Error Rate')"
            ]
          },
          "metadata": {
            "tags": []
          },
          "execution_count": 14
        },
        {
          "output_type": "display_data",
          "data": {
            "image/png": "[encoded data removed]",
            "text/plain": [
              "<Figure size 720x432 with 1 Axes>"
            ]
          },
          "metadata": {
            "tags": [],
            "needs_background": "light"
          }
        }
      ]
    },
    {
      "cell_type": "code",
      "metadata": {
        "id": "PTz-gEIJmy4-",
        "colab_type": "code",
        "colab": {
          "base_uri": "https://localhost:8080/",
          "height": 68
        },
        "outputId": "a252f50d-5a99-4098-a3a3-51ed81dfa7f9"
      },
      "source": [
        "clf = KNeighborsClassifier(n_neighbors=6)\n",
        "clf.fit(X_train,y_train)"
      ],
      "execution_count": 15,
      "outputs": [
        {
          "output_type": "execute_result",
          "data": {
            "text/plain": [
              "KNeighborsClassifier(algorithm='auto', leaf_size=30, metric='minkowski',\n",
              "                     metric_params=None, n_jobs=None, n_neighbors=6, p=2,\n",
              "                     weights='uniform')"
            ]
          },
          "metadata": {
            "tags": []
          },
          "execution_count": 15
        }
      ]
    },
    {
      "cell_type": "code",
      "metadata": {
        "id": "Qyk5RhxkYZfM",
        "colab_type": "code",
        "outputId": "7b2c7912-7cf4-45ff-b0b0-f1c86fe7f70a",
        "colab": {
          "base_uri": "https://localhost:8080/",
          "height": 34
        }
      },
      "source": [
        "clf.score(X_test,y_test)"
      ],
      "execution_count": 16,
      "outputs": [
        {
          "output_type": "execute_result",
          "data": {
            "text/plain": [
              "0.2670935412026726"
            ]
          },
          "metadata": {
            "tags": []
          },
          "execution_count": 16
        }
      ]
    },
    {
      "cell_type": "code",
      "metadata": {
        "id": "kY-sf36FYgRu",
        "colab_type": "code",
        "outputId": "c2a66ad9-d6e5-4421-fbc7-968b1d79689b",
        "colab": {
          "base_uri": "https://localhost:8080/",
          "height": 34
        }
      },
      "source": [
        "clf.score(X_train,y_train)\n"
      ],
      "execution_count": 17,
      "outputs": [
        {
          "output_type": "execute_result",
          "data": {
            "text/plain": [
              "0.35836024498886415"
            ]
          },
          "metadata": {
            "tags": []
          },
          "execution_count": 17
        }
      ]
    },
    {
      "cell_type": "markdown",
      "metadata": {
        "id": "KhTXx0vVng6t",
        "colab_type": "text"
      },
      "source": [
        "# **Classification using Decision Trees**"
      ]
    },
    {
      "cell_type": "code",
      "metadata": {
        "id": "0AiBV0nRkrS0",
        "colab_type": "code",
        "colab": {}
      },
      "source": [
        "from sklearn.tree import DecisionTreeClassifier\n",
        "clf = DecisionTreeClassifier(max_depth=100, random_state=300)"
      ],
      "execution_count": 0,
      "outputs": []
    },
    {
      "cell_type": "code",
      "metadata": {
        "id": "7-P8iGlOeOUe",
        "colab_type": "code",
        "colab": {
          "base_uri": "https://localhost:8080/",
          "height": 119
        },
        "outputId": "9d3fe2dd-221d-47b5-b282-0b1793a1b8f7"
      },
      "source": [
        "clf.fit(X_train,y_train)"
      ],
      "execution_count": 19,
      "outputs": [
        {
          "output_type": "execute_result",
          "data": {
            "text/plain": [
              "DecisionTreeClassifier(ccp_alpha=0.0, class_weight=None, criterion='gini',\n",
              "                       max_depth=100, max_features=None, max_leaf_nodes=None,\n",
              "                       min_impurity_decrease=0.0, min_impurity_split=None,\n",
              "                       min_samples_leaf=1, min_samples_split=2,\n",
              "                       min_weight_fraction_leaf=0.0, presort='deprecated',\n",
              "                       random_state=300, splitter='best')"
            ]
          },
          "metadata": {
            "tags": []
          },
          "execution_count": 19
        }
      ]
    },
    {
      "cell_type": "code",
      "metadata": {
        "id": "AVKjkRMxeWJu",
        "colab_type": "code",
        "colab": {
          "base_uri": "https://localhost:8080/",
          "height": 34
        },
        "outputId": "298efc58-675b-4825-fe08-37a1ed78e991"
      },
      "source": [
        "clf.score(X_test,y_test)"
      ],
      "execution_count": 20,
      "outputs": [
        {
          "output_type": "execute_result",
          "data": {
            "text/plain": [
              "0.4387305122494432"
            ]
          },
          "metadata": {
            "tags": []
          },
          "execution_count": 20
        }
      ]
    },
    {
      "cell_type": "code",
      "metadata": {
        "id": "laDHlJtWeW__",
        "colab_type": "code",
        "colab": {
          "base_uri": "https://localhost:8080/",
          "height": 34
        },
        "outputId": "df94b1b3-e651-4394-bea1-9efc885f3b04"
      },
      "source": [
        "clf.score(X_train,y_train)"
      ],
      "execution_count": 21,
      "outputs": [
        {
          "output_type": "execute_result",
          "data": {
            "text/plain": [
              "0.9748246102449889"
            ]
          },
          "metadata": {
            "tags": []
          },
          "execution_count": 21
        }
      ]
    },
    {
      "cell_type": "markdown",
      "metadata": {
        "id": "VamII6S0nz3H",
        "colab_type": "text"
      },
      "source": [
        "# **Classification using RandomForest**"
      ]
    },
    {
      "cell_type": "code",
      "metadata": {
        "id": "uDFDTPp5edmq",
        "colab_type": "code",
        "colab": {
          "base_uri": "https://localhost:8080/",
          "height": 153
        },
        "outputId": "bf2815d4-085c-4c4d-eee8-bcb51ae4f17f"
      },
      "source": [
        "from sklearn.ensemble import RandomForestClassifier\n",
        "clf = RandomForestClassifier(n_estimators=100)\n",
        "clf.fit(X_train, y_train)"
      ],
      "execution_count": 22,
      "outputs": [
        {
          "output_type": "execute_result",
          "data": {
            "text/plain": [
              "RandomForestClassifier(bootstrap=True, ccp_alpha=0.0, class_weight=None,\n",
              "                       criterion='gini', max_depth=None, max_features='auto',\n",
              "                       max_leaf_nodes=None, max_samples=None,\n",
              "                       min_impurity_decrease=0.0, min_impurity_split=None,\n",
              "                       min_samples_leaf=1, min_samples_split=2,\n",
              "                       min_weight_fraction_leaf=0.0, n_estimators=100,\n",
              "                       n_jobs=None, oob_score=False, random_state=None,\n",
              "                       verbose=0, warm_start=False)"
            ]
          },
          "metadata": {
            "tags": []
          },
          "execution_count": 22
        }
      ]
    },
    {
      "cell_type": "code",
      "metadata": {
        "id": "RKSKeoYCeePf",
        "colab_type": "code",
        "colab": {
          "base_uri": "https://localhost:8080/",
          "height": 34
        },
        "outputId": "59eb403d-a695-4f98-a1a9-3205a1c5cecb"
      },
      "source": [
        "clf.score(X_test,y_test)"
      ],
      "execution_count": 23,
      "outputs": [
        {
          "output_type": "execute_result",
          "data": {
            "text/plain": [
              "0.41332962138084633"
            ]
          },
          "metadata": {
            "tags": []
          },
          "execution_count": 23
        }
      ]
    },
    {
      "cell_type": "code",
      "metadata": {
        "id": "2TlKqZ80eiJI",
        "colab_type": "code",
        "colab": {
          "base_uri": "https://localhost:8080/",
          "height": 34
        },
        "outputId": "d8012c6d-0cf3-4ff7-ce57-27e11ef3ffb9"
      },
      "source": [
        "clf.score(X_train,y_train)\n"
      ],
      "execution_count": 24,
      "outputs": [
        {
          "output_type": "execute_result",
          "data": {
            "text/plain": [
              "0.9797021158129176"
            ]
          },
          "metadata": {
            "tags": []
          },
          "execution_count": 24
        }
      ]
    },
    {
      "cell_type": "markdown",
      "metadata": {
        "id": "g5-8b32Zn7t3",
        "colab_type": "text"
      },
      "source": [
        "Since scores are low/overfitted , we broaden the categories to violent and non-violent crimes."
      ]
    },
    {
      "cell_type": "code",
      "metadata": {
        "id": "52iIbIj0jo8t",
        "colab_type": "code",
        "colab": {}
      },
      "source": [
        "#cat 1 & 2 are violent crimes\n",
        "y1 = y[:,0:2]\n",
        "# cat 3 through 8 are non-violent\n",
        "y2 = y[:,2:]\n",
        "\n",
        "y1 = np.max(y1,axis=1)\n",
        "y2 = np.max(y2,axis=1)\n",
        "Y = np.array((y1,y2))\n",
        "Y = Y.transpose()"
      ],
      "execution_count": 0,
      "outputs": []
    },
    {
      "cell_type": "code",
      "metadata": {
        "id": "X5jA8womlMsr",
        "colab_type": "code",
        "colab": {}
      },
      "source": [
        "X_train, X_test, y_train, y_test = train_test_split(X, Y, test_size=0.20, random_state=42)"
      ],
      "execution_count": 0,
      "outputs": []
    },
    {
      "cell_type": "markdown",
      "metadata": {
        "id": "-J06s8uVoIgV",
        "colab_type": "text"
      },
      "source": [
        "# **KNN**"
      ]
    },
    {
      "cell_type": "markdown",
      "metadata": {
        "id": "iYR1aHh7rMxK",
        "colab_type": "text"
      },
      "source": [
        "Choosing K-value"
      ]
    },
    {
      "cell_type": "code",
      "metadata": {
        "id": "yOBwisZPmKvG",
        "colab_type": "code",
        "colab": {}
      },
      "source": [
        "error_rate = []\n",
        "for i in range(1,40):\n",
        "    \n",
        "    clf = KNeighborsClassifier(n_neighbors=i)\n",
        "    clf.fit(X_train,y_train)\n",
        "    pred_i = clf.predict(X_test)\n",
        "    error_rate.append(np.mean(pred_i != y_test))"
      ],
      "execution_count": 0,
      "outputs": []
    },
    {
      "cell_type": "code",
      "metadata": {
        "id": "jlucdjORrZaZ",
        "colab_type": "code",
        "colab": {
          "base_uri": "https://localhost:8080/",
          "height": 405
        },
        "outputId": "b9fbd6c1-5cdf-4541-8d13-a7c59261d908"
      },
      "source": [
        "plt.figure(figsize=(10,6))\n",
        "plt.plot(range(1,40),error_rate)\n",
        "plt.xlabel('K')\n",
        "plt.ylabel('Error Rate')"
      ],
      "execution_count": 30,
      "outputs": [
        {
          "output_type": "execute_result",
          "data": {
            "text/plain": [
              "Text(0, 0.5, 'Error Rate')"
            ]
          },
          "metadata": {
            "tags": []
          },
          "execution_count": 30
        },
        {
          "output_type": "display_data",
          "data": {
            "image/png": "[encoded data removed]",
            "text/plain": [
              "<Figure size 720x432 with 1 Axes>"
            ]
          },
          "metadata": {
            "tags": [],
            "needs_background": "light"
          }
        }
      ]
    },
    {
      "cell_type": "code",
      "metadata": {
        "id": "LWRz0zdVrJh_",
        "colab_type": "code",
        "colab": {
          "base_uri": "https://localhost:8080/",
          "height": 68
        },
        "outputId": "3fc3f8e7-d42c-4ea6-9eda-549a836db962"
      },
      "source": [
        "knn = KNeighborsClassifier(n_neighbors=13)\n",
        "knn.fit(X_train,y_train)"
      ],
      "execution_count": 31,
      "outputs": [
        {
          "output_type": "execute_result",
          "data": {
            "text/plain": [
              "KNeighborsClassifier(algorithm='auto', leaf_size=30, metric='minkowski',\n",
              "                     metric_params=None, n_jobs=None, n_neighbors=13, p=2,\n",
              "                     weights='uniform')"
            ]
          },
          "metadata": {
            "tags": []
          },
          "execution_count": 31
        }
      ]
    },
    {
      "cell_type": "code",
      "metadata": {
        "id": "WQWw_qS8mLdr",
        "colab_type": "code",
        "colab": {
          "base_uri": "https://localhost:8080/",
          "height": 34
        },
        "outputId": "6ff3bc2a-d238-419a-9d7d-5803747e678b"
      },
      "source": [
        "knn.score(X_test,y_test)"
      ],
      "execution_count": 32,
      "outputs": [
        {
          "output_type": "execute_result",
          "data": {
            "text/plain": [
              "0.8134743875278396"
            ]
          },
          "metadata": {
            "tags": []
          },
          "execution_count": 32
        }
      ]
    },
    {
      "cell_type": "code",
      "metadata": {
        "id": "wRSKJq6DmSJf",
        "colab_type": "code",
        "colab": {
          "base_uri": "https://localhost:8080/",
          "height": 34
        },
        "outputId": "9bc31e21-f0e0-4016-eac7-bbe176756fd8"
      },
      "source": [
        "knn.score(X_train,y_train)"
      ],
      "execution_count": 33,
      "outputs": [
        {
          "output_type": "execute_result",
          "data": {
            "text/plain": [
              "0.8242344097995545"
            ]
          },
          "metadata": {
            "tags": []
          },
          "execution_count": 33
        }
      ]
    },
    {
      "cell_type": "markdown",
      "metadata": {
        "id": "FYkocjJPoMvI",
        "colab_type": "text"
      },
      "source": [
        "# **Decision Trees**"
      ]
    },
    {
      "cell_type": "code",
      "metadata": {
        "id": "JJrfzGg0mdHx",
        "colab_type": "code",
        "colab": {}
      },
      "source": [
        "dtree = DecisionTreeClassifier(max_depth=100, random_state=300)"
      ],
      "execution_count": 0,
      "outputs": []
    },
    {
      "cell_type": "code",
      "metadata": {
        "id": "Md7uj3f1mXgC",
        "colab_type": "code",
        "colab": {
          "base_uri": "https://localhost:8080/",
          "height": 119
        },
        "outputId": "7c4f9ad8-fd78-4d3d-dfd0-9d8d5a04b939"
      },
      "source": [
        "dtree.fit(X_train,y_train)"
      ],
      "execution_count": 35,
      "outputs": [
        {
          "output_type": "execute_result",
          "data": {
            "text/plain": [
              "DecisionTreeClassifier(ccp_alpha=0.0, class_weight=None, criterion='gini',\n",
              "                       max_depth=100, max_features=None, max_leaf_nodes=None,\n",
              "                       min_impurity_decrease=0.0, min_impurity_split=None,\n",
              "                       min_samples_leaf=1, min_samples_split=2,\n",
              "                       min_weight_fraction_leaf=0.0, presort='deprecated',\n",
              "                       random_state=300, splitter='best')"
            ]
          },
          "metadata": {
            "tags": []
          },
          "execution_count": 35
        }
      ]
    },
    {
      "cell_type": "code",
      "metadata": {
        "id": "cs0crOnj9dMS",
        "colab_type": "code",
        "colab": {
          "base_uri": "https://localhost:8080/",
          "height": 34
        },
        "outputId": "6047583a-83bd-417a-da56-67414b92b526"
      },
      "source": [
        "dtree.score(X_test,y_test)"
      ],
      "execution_count": 37,
      "outputs": [
        {
          "output_type": "execute_result",
          "data": {
            "text/plain": [
              "0.7624721603563475"
            ]
          },
          "metadata": {
            "tags": []
          },
          "execution_count": 37
        }
      ]
    },
    {
      "cell_type": "code",
      "metadata": {
        "id": "hlxplncZmfkF",
        "colab_type": "code",
        "colab": {
          "base_uri": "https://localhost:8080/",
          "height": 34
        },
        "outputId": "df25e364-db93-4a1a-a0bc-946635b80256"
      },
      "source": [
        "dtree.score(X_train,y_train)"
      ],
      "execution_count": 36,
      "outputs": [
        {
          "output_type": "execute_result",
          "data": {
            "text/plain": [
              "0.9895963251670379"
            ]
          },
          "metadata": {
            "tags": []
          },
          "execution_count": 36
        }
      ]
    },
    {
      "cell_type": "markdown",
      "metadata": {
        "id": "iHhl--zmoRvC",
        "colab_type": "text"
      },
      "source": [
        "# **Random Forest**"
      ]
    },
    {
      "cell_type": "code",
      "metadata": {
        "id": "O4fC5njUmfhL",
        "colab_type": "code",
        "colab": {
          "base_uri": "https://localhost:8080/",
          "height": 153
        },
        "outputId": "761be9a7-7853-4670-928b-0754d90427b9"
      },
      "source": [
        "rfc = RandomForestClassifier(n_estimators=100)\n",
        "rfc.fit(X_train, y_train)"
      ],
      "execution_count": 38,
      "outputs": [
        {
          "output_type": "execute_result",
          "data": {
            "text/plain": [
              "RandomForestClassifier(bootstrap=True, ccp_alpha=0.0, class_weight=None,\n",
              "                       criterion='gini', max_depth=None, max_features='auto',\n",
              "                       max_leaf_nodes=None, max_samples=None,\n",
              "                       min_impurity_decrease=0.0, min_impurity_split=None,\n",
              "                       min_samples_leaf=1, min_samples_split=2,\n",
              "                       min_weight_fraction_leaf=0.0, n_estimators=100,\n",
              "                       n_jobs=None, oob_score=False, random_state=None,\n",
              "                       verbose=0, warm_start=False)"
            ]
          },
          "metadata": {
            "tags": []
          },
          "execution_count": 38
        }
      ]
    },
    {
      "cell_type": "code",
      "metadata": {
        "id": "dgDnn8Symm8C",
        "colab_type": "code",
        "colab": {
          "base_uri": "https://localhost:8080/",
          "height": 34
        },
        "outputId": "337e6e45-b0ee-4d19-f29f-098ff5104a8c"
      },
      "source": [
        "rfc.score(X_test,y_test)"
      ],
      "execution_count": 39,
      "outputs": [
        {
          "output_type": "execute_result",
          "data": {
            "text/plain": [
              "0.86"
            ]
          },
          "metadata": {
            "tags": []
          },
          "execution_count": 39
        }
      ]
    },
    {
      "cell_type": "code",
      "metadata": {
        "id": "t6xT7BbEmo3B",
        "colab_type": "code",
        "colab": {
          "base_uri": "https://localhost:8080/",
          "height": 34
        },
        "outputId": "4d91c7c9-2417-41a8-da90-3a8f76cd8e89"
      },
      "source": [
        "rfc.score(X_train,y_train)\n"
      ],
      "execution_count": 40,
      "outputs": [
        {
          "output_type": "execute_result",
          "data": {
            "text/plain": [
              "0.9941341870824053"
            ]
          },
          "metadata": {
            "tags": []
          },
          "execution_count": 40
        }
      ]
    }
  ]
}
